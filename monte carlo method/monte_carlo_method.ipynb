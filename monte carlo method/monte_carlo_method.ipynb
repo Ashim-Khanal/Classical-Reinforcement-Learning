{
 "cells": [
  {
   "cell_type": "code",
   "execution_count": 1,
   "id": "10331b9b",
   "metadata": {},
   "outputs": [],
   "source": [
    "import numpy as np\n",
    "import random\n",
    "import time\n",
    "import gym\n",
    "from collections import defaultdict\n",
    "import itertools\n",
    "import matplotlib\n",
    "import matplotlib.style\n",
    "import pandas as pd\n",
    "import sys\n",
    "matplotlib.style.use('ggplot')\n",
    "import plotting\n",
    "import numpy as np"
   ]
  },
  {
   "cell_type": "code",
   "execution_count": 2,
   "id": "f3ad32fb",
   "metadata": {},
   "outputs": [],
   "source": [
    "## First visit monte carlo"
   ]
  },
  {
   "cell_type": "code",
   "execution_count": 15,
   "id": "eb9fa7cd",
   "metadata": {},
   "outputs": [],
   "source": [
    "class environment:\n",
    "    def __init__(self):\n",
    "        self.env_rows = 7\n",
    "        self.env_columns = 7\n",
    "        self.actions = ['up', 'right', 'down', 'left']\n",
    "        self.V = np.zeros((self.env_rows, self.env_columns, len(self.actions)))\n",
    "        self.rewards = np.full((self.env_rows, self.env_columns), -1)\n",
    "        self.rewards[2,3] = 100\n",
    "        self.fire = {}\n",
    "        self.fire[0] = [3,6]\n",
    "        self.fire[1] = [2,6]\n",
    "        self.fire[2] = [1,5]\n",
    "        self.fire[3] = []\n",
    "        self.fire[4] = [2,4]\n",
    "        self.fire[5] = [0,3]\n",
    "        self.fire[6] = [4,6]\n",
    "        for row_index in range(self.env_rows):\n",
    "            for column_index in self.fire[row_index]:\n",
    "                self.rewards[row_index, column_index] = -100"
   ]
  },
  {
   "cell_type": "code",
   "execution_count": 16,
   "id": "7786070e",
   "metadata": {},
   "outputs": [],
   "source": [
    "env = environment()"
   ]
  },
  {
   "cell_type": "code",
   "execution_count": 17,
   "id": "d2d04298",
   "metadata": {},
   "outputs": [
    {
     "name": "stdout",
     "output_type": "stream",
     "text": [
      "[[  -1   -1   -1 -100   -1   -1 -100]\n",
      " [  -1   -1 -100   -1   -1   -1 -100]\n",
      " [  -1 -100   -1  100   -1 -100   -1]\n",
      " [  -1   -1   -1   -1   -1   -1   -1]\n",
      " [  -1   -1 -100   -1 -100   -1   -1]\n",
      " [-100   -1   -1 -100   -1   -1   -1]\n",
      " [  -1   -1   -1   -1 -100   -1 -100]]\n"
     ]
    }
   ],
   "source": [
    "print(env.rewards)"
   ]
  },
  {
   "cell_type": "code",
   "execution_count": 13,
   "id": "7b592e3c",
   "metadata": {},
   "outputs": [],
   "source": [
    "def is_terminal_state(current_row_index, current_column_index):\n",
    "    if env.rewards[current_row_index, current_column_index] == -1:\n",
    "        return False\n",
    "    else:\n",
    "        return True"
   ]
  },
  {
   "cell_type": "code",
   "execution_count": 7,
   "id": "1891a8c8",
   "metadata": {},
   "outputs": [],
   "source": [
    "def get_initial_state():\n",
    "    current_row_index = np.random.randint(0, env.env_rows - 1)\n",
    "    current_column_index = np.random.randint(0, env.env_columns - 1)\n",
    "    while is_terminal_state(current_row_index, current_column_index):\n",
    "        current_row_index = np.random.randint(0, env.env_rows-1)\n",
    "        current_column_index = np.random.randint(0, env.env_columns-1)\n",
    "    return current_row_index, current_column_index"
   ]
  },
  {
   "cell_type": "code",
   "execution_count": 20,
   "id": "7d4fbcfd",
   "metadata": {},
   "outputs": [],
   "source": [
    "def get_action(current_row_index, current_column_index, epsilon):\n",
    "        return np.random.choice(4, p =[0.25,0.25,0.25,0.25])"
   ]
  },
  {
   "cell_type": "code",
   "execution_count": 9,
   "id": "07565062",
   "metadata": {},
   "outputs": [],
   "source": [
    "def get_next_location(current_row_index, current_column_index, action_index):\n",
    "    new_row_index = current_row_index\n",
    "    new_column_index = current_column_index\n",
    "    if env.actions[action_index] == 'up' and current_row_index  > 0:\n",
    "        new_row_index -= 1\n",
    "    elif env.actions[action_index] == 'right' and current_column_index < env.env_columns - 1:\n",
    "        new_column_index += 1\n",
    "    elif env.actions[action_index] == 'down' and current_row_index < env.env_rows - 1:\n",
    "        new_row_index += 1\n",
    "    elif env.actions[action_index] == 'left' and current_column_index > 0:\n",
    "        new_column_index -= 1\n",
    "    return new_row_index, new_column_index"
   ]
  },
  {
   "cell_type": "code",
   "execution_count": 48,
   "id": "6b712193",
   "metadata": {},
   "outputs": [
    {
     "name": "stdout",
     "output_type": "stream",
     "text": [
      "Training complete!\n"
     ]
    }
   ],
   "source": [
    "epsilon = 0.9 #the percentage of time when we should take the best action (instead of a random action)\n",
    "discount_factor = 0.2 #discount factor for future rewards (gamma)\n",
    "learning_rate = 0.8 #the rate at which the agent should learn\n",
    "num_episodes = 1000\n",
    "episode_lengths = np.zeros(num_episodes)\n",
    "episode_rewards = np.zeros(num_episodes)\n",
    "optimal_action = np.zeros((env.env_rows, env.env_columns))\n",
    "number_of_visit_matrix = np.zeros((env.env_rows, env.env_columns))\n",
    "\n",
    "for episode in range(num_episodes):\n",
    "    G = 0    \n",
    "    row_index, column_index = get_initial_state()\n",
    "    number_of_visit_matrix[row_index, column_index] += 1 \n",
    "    initial_row_index, initial_column_index = row_index, column_index\n",
    "    action_index = get_action(row_index, column_index, epsilon)\n",
    "    while not is_terminal_state(row_index, column_index):\n",
    "        action_index = get_action(row_index, column_index, epsilon)\n",
    "        row_index, column_index = get_next_location(row_index, column_index, action_index)\n",
    "        reward = env.rewards[row_index, column_index]\n",
    "        \n",
    "        G = discount_factor * G + reward\n",
    "    \n",
    "    #if env.V[row_index, column_index, action_index] < G / number_of_visit_matrix[initial_row_index, initial_column_index]:\n",
    "        \n",
    "    env.V[row_index, column_index, action_index] = G / number_of_visit_matrix[initial_row_index, initial_column_index]\n",
    "    optimal_action[initial_row_index, initial_column_index] = np.argmax(env.V[row_index, column_index])\n",
    "    \n",
    "    episode_rewards[episode] = G / number_of_visit_matrix[initial_row_index, initial_column_index]\n",
    "    \n",
    "print('Training complete!')"
   ]
  },
  {
   "cell_type": "code",
   "execution_count": 49,
   "id": "0590ff1e",
   "metadata": {},
   "outputs": [],
   "source": [
    "def get_shortest_path(start_row_index, start_column_index):\n",
    "  #return immediately if this is an invalid starting location\n",
    "    if is_terminal_state(start_row_index, start_column_index):\n",
    "        return []\n",
    "    else: #if this is a 'legal' starting location\n",
    "        current_row_index, current_column_index = start_row_index, start_column_index\n",
    "        shortest_path = []\n",
    "        shortest_path.append([current_row_index, current_column_index])\n",
    "    #continue moving along the path until we reach the goal (i.e., the item packaging location)\n",
    "        while not is_terminal_state(current_row_index, current_column_index):\n",
    "      #get the best action to take\n",
    "            action_index = int(optimal_action[current_row_index, current_column_index])\n",
    "      #move to the next location on the path, and add the new location to the list\n",
    "            current_row_index, current_column_index = get_next_location(current_row_index, current_column_index, action_index)\n",
    "            shortest_path.append([current_row_index, current_column_index])\n",
    "        return shortest_path"
   ]
  },
  {
   "cell_type": "code",
   "execution_count": null,
   "id": "94a8c7cf",
   "metadata": {},
   "outputs": [],
   "source": []
  },
  {
   "cell_type": "code",
   "execution_count": 50,
   "id": "851a9991",
   "metadata": {},
   "outputs": [
    {
     "data": {
      "text/plain": [
       "[[3, 6], [2, 6], [1, 6]]"
      ]
     },
     "execution_count": 50,
     "metadata": {},
     "output_type": "execute_result"
    }
   ],
   "source": [
    "get_shortest_path(3,6)"
   ]
  },
  {
   "cell_type": "code",
   "execution_count": 51,
   "id": "95ecc686",
   "metadata": {},
   "outputs": [],
   "source": [
    "import matplotlib.pyplot as plt"
   ]
  },
  {
   "cell_type": "code",
   "execution_count": 52,
   "id": "18b19d6f",
   "metadata": {},
   "outputs": [
    {
     "data": {
      "image/png": "[encoded data removed]",
      "text/plain": [
       "<Figure size 432x288 with 1 Axes>"
      ]
     },
     "metadata": {},
     "output_type": "display_data"
    }
   ],
   "source": [
    "#plt.scatter([i for i in range(num_episodes)], episode_rewards)\n",
    "plt.scatter([i for i in range(1000)], episode_rewards[:1000])\n",
    "plt.xlabel('episodes')\n",
    "plt.ylabel('rewards')\n",
    "plt.title('episode-rewards plot')\n",
    "plt.show()"
   ]
  },
  {
   "cell_type": "code",
   "execution_count": null,
   "id": "6c6c579b",
   "metadata": {},
   "outputs": [],
   "source": []
  },
  {
   "cell_type": "code",
   "execution_count": null,
   "id": "634e3c92",
   "metadata": {},
   "outputs": [],
   "source": []
  },
  {
   "cell_type": "code",
   "execution_count": null,
   "id": "323b21d7",
   "metadata": {},
   "outputs": [],
   "source": []
  }
 ],
 "metadata": {
  "kernelspec": {
   "display_name": "Python 3 (ipykernel)",
   "language": "python",
   "name": "python3"
  },
  "language_info": {
   "codemirror_mode": {
    "name": "ipython",
    "version": 3
   },
   "file_extension": ".py",
   "mimetype": "text/x-python",
   "name": "python",
   "nbconvert_exporter": "python",
   "pygments_lexer": "ipython3",
   "version": "3.8.10"
  }
 },
 "nbformat": 4,
 "nbformat_minor": 5
}
