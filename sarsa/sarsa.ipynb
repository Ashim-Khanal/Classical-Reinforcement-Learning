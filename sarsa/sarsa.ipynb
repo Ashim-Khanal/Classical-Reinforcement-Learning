{
 "cells": [
  {
   "cell_type": "code",
   "execution_count": 25,
   "id": "e3041049",
   "metadata": {},
   "outputs": [],
   "source": [
    "import numpy as np\n",
    "import random\n",
    "import time\n",
    "import gym\n",
    "from collections import defaultdict\n",
    "import itertools\n",
    "import matplotlib\n",
    "import matplotlib.style\n",
    "import pandas as pd\n",
    "import sys\n",
    "matplotlib.style.use('ggplot')\n",
    "import plotting\n",
    "import numpy as np"
   ]
  },
  {
   "cell_type": "code",
   "execution_count": 26,
   "id": "8389b315",
   "metadata": {},
   "outputs": [],
   "source": [
    "class environment:\n",
    "    def __init__(self):\n",
    "        self.env_rows = 4\n",
    "        self.env_columns = 4\n",
    "        self.actions = ['up', 'right', 'down', 'left']\n",
    "        self.q_values = np.zeros((self.env_rows, self.env_columns, len(self.actions)))\n",
    "        self.rewards = np.full((self.env_rows, self.env_columns), -1)\n",
    "        self.rewards[0,2] = 100\n",
    "        self.fire = {}\n",
    "        self.fire = {}\n",
    "        self.fire[0] = []\n",
    "        self.fire[1] = [1,3]\n",
    "        self.fire[2] = []\n",
    "        self.fire[3] = [0,2]\n",
    "        for row_index in range(self.env_rows):\n",
    "            for column_index in self.fire[row_index]:\n",
    "                self.rewards[row_index, column_index] = -100"
   ]
  },
  {
   "cell_type": "code",
   "execution_count": 27,
   "id": "a3bad8d2",
   "metadata": {},
   "outputs": [],
   "source": [
    "env = environment()"
   ]
  },
  {
   "cell_type": "code",
   "execution_count": 28,
   "id": "ba2d6212",
   "metadata": {},
   "outputs": [
    {
     "name": "stdout",
     "output_type": "stream",
     "text": [
      "[[  -1   -1  100   -1]\n",
      " [  -1 -100   -1 -100]\n",
      " [  -1   -1   -1   -1]\n",
      " [-100   -1 -100   -1]]\n"
     ]
    }
   ],
   "source": [
    "print(env.rewards)"
   ]
  },
  {
   "cell_type": "markdown",
   "id": "8030a772",
   "metadata": {},
   "source": [
    "env_rows = 7\n",
    "env_columns = 7\n",
    "actions = ['up', 'right', 'down', 'left']\n",
    "q_values = np.zeros((env_rows, env_columns, len(actions)))\n",
    "#numeric action codes: 0 = up, 1 = right, 2 = down, 3 = left"
   ]
  },
  {
   "cell_type": "markdown",
   "id": "c47d281f",
   "metadata": {},
   "source": [
    "rewards = np.full((env_rows, env_columns), -1)\n",
    "rewards[2,3] = 100 \n",
    "rewards"
   ]
  },
  {
   "cell_type": "markdown",
   "id": "d9dc79ae",
   "metadata": {},
   "source": [
    "fire = {}\n",
    "fire[0] = [3,6]\n",
    "fire[1] = [2,6]\n",
    "fire[2] = [1,5]\n",
    "fire[3] = []\n",
    "fire[4] = [2,4]\n",
    "fire[5] = [0,3]\n",
    "fire[6] = [4,6]"
   ]
  },
  {
   "cell_type": "markdown",
   "id": "d8ebfba9",
   "metadata": {},
   "source": [
    "fire"
   ]
  },
  {
   "cell_type": "markdown",
   "id": "129821d9",
   "metadata": {},
   "source": [
    "for row_index in range(7):\n",
    "    for column_index in fire[row_index]:\n",
    "        env.rewards[row_index, column_index] = -100\n",
    "env.rewards"
   ]
  },
  {
   "cell_type": "code",
   "execution_count": 17,
   "id": "c62e14fe",
   "metadata": {},
   "outputs": [],
   "source": [
    "def is_terminal_state(current_row_index, current_column_index):\n",
    "    if env.rewards[current_row_index, current_column_index] == -1:\n",
    "        return False\n",
    "    else:\n",
    "        return True"
   ]
  },
  {
   "cell_type": "code",
   "execution_count": 29,
   "id": "6f033276",
   "metadata": {},
   "outputs": [],
   "source": [
    "def get_starting_location():\n",
    "    current_row_index = np.random.randint(0, env.env_rows - 1)\n",
    "    current_column_index = np.random.randint(0, env.env_columns - 1)\n",
    "    while is_terminal_state(current_row_index, current_column_index):\n",
    "        current_row_index = np.random.randint(0, env.env_rows-1)\n",
    "        current_column_index = np.random.randint(0, env.env_columns-1)\n",
    "    return current_row_index, current_column_index\n",
    "\n",
    "def get_next_action(current_row_index, current_column_index, epsilon):\n",
    "#if a randomly chosen value between 0 and 1 is less than epsilon, \n",
    "#then choose the most promising value from the Q-table for this state.\n",
    "    if np.random.random() < epsilon:\n",
    "        return np.argmax(env.q_values[current_row_index, current_column_index])\n",
    "    else:   #choose random action\n",
    "        return np.random.randint(4)\n",
    "\n",
    "def get_next_location(current_row_index, current_column_index, action_index):\n",
    "    new_row_index = current_row_index\n",
    "    new_column_index = current_column_index\n",
    "    if env.actions[action_index] == 'up' and current_row_index  > 0:\n",
    "        new_row_index -= 1\n",
    "    elif env.actions[action_index] == 'right' and current_column_index < env.env_columns - 1:\n",
    "        new_column_index += 1\n",
    "    elif env.actions[action_index] == 'down' and current_row_index < env.env_rows - 1:\n",
    "        new_row_index += 1\n",
    "    elif env.actions[action_index] == 'left' and current_column_index > 0:\n",
    "        new_column_index -= 1\n",
    "    return new_row_index, new_column_index"
   ]
  },
  {
   "cell_type": "code",
   "execution_count": 31,
   "id": "446d5ee6",
   "metadata": {},
   "outputs": [],
   "source": [
    "def get_shortest_path(start_row_index, start_column_index):\n",
    "  #return immediately if this is an invalid starting location\n",
    "    if is_terminal_state(start_row_index, start_column_index):\n",
    "        return []\n",
    "    else: #if this is a 'legal' starting location\n",
    "        current_row_index, current_column_index = start_row_index, start_column_index\n",
    "        shortest_path = []\n",
    "        shortest_path.append([current_row_index, current_column_index])\n",
    "    #continue moving along the path until we reach the goal (i.e., the item packaging location)\n",
    "        while not is_terminal_state(current_row_index, current_column_index):\n",
    "      #get the best action to take\n",
    "            action_index = get_next_action(current_row_index, current_column_index, 1.)\n",
    "      #move to the next location on the path, and add the new location to the list\n",
    "            current_row_index, current_column_index = get_next_location(current_row_index, current_column_index, action_index)\n",
    "            shortest_path.append([current_row_index, current_column_index])\n",
    "        return shortest_path"
   ]
  },
  {
   "cell_type": "code",
   "execution_count": 32,
   "id": "ce7ace5f",
   "metadata": {},
   "outputs": [
    {
     "name": "stdout",
     "output_type": "stream",
     "text": [
      "Training complete!\n"
     ]
    }
   ],
   "source": [
    "#define training parameters\n",
    "epsilon = 0.9 #the percentage of time when we should take the best action (instead of a random action)\n",
    "discount_factor = 0.9 #discount factor for future rewards\n",
    "learning_rate = 0.9 #the rate at which the agent should learn\n",
    "num_episodes = 1000\n",
    "episode_lengths = np.zeros(num_episodes)\n",
    "episode_rewards = np.zeros(num_episodes)\n",
    "#run through 1000 training episodes\n",
    "for episode in range(num_episodes):\n",
    "  #get the starting location for this episode\n",
    "    row_index, column_index = get_starting_location()\n",
    "  #continue taking actions (i.e., moving) until we reach a terminal state\n",
    "  #(i.e., until we reach the fire or the goal state\n",
    "    while not is_terminal_state(row_index, column_index):\n",
    "    #choose which action to take (i.e., where to move next)\n",
    "        action_index = get_next_action(row_index, column_index, epsilon)\n",
    "    #perform the chosen action, and transition to the next state (i.e., move to the next location)\n",
    "        old_row_index, old_column_index = row_index, column_index #store the old row and column indexes\n",
    "        row_index, column_index = get_next_location(row_index, column_index, action_index)\n",
    "    #receive the reward for moving to the new state, and calculate the temporal difference\n",
    "        reward = env.rewards[row_index, column_index]\n",
    "        \n",
    "        episode_rewards[episode] += reward\n",
    "        next_action_index = get_next_action(row_index, column_index, epsilon)\n",
    "        old_q_value = env.q_values[old_row_index, old_column_index, action_index]\n",
    "        temporal_difference = reward + (discount_factor * (env.q_values[row_index, column_index, next_action_index])) - old_q_value\n",
    "    #update the Q-value for the previous state and action pair\n",
    "        new_q_value = old_q_value + (learning_rate * temporal_difference)\n",
    "        env.q_values[old_row_index, old_column_index, action_index] = new_q_value\n",
    "    \n",
    "print('Training complete!')"
   ]
  },
  {
   "cell_type": "code",
   "execution_count": null,
   "id": "fdad7869",
   "metadata": {},
   "outputs": [],
   "source": []
  },
  {
   "cell_type": "code",
   "execution_count": 34,
   "id": "5080614d",
   "metadata": {},
   "outputs": [
    {
     "data": {
      "text/plain": [
       "[[1, 0], [0, 0], [0, 1], [0, 2]]"
      ]
     },
     "execution_count": 34,
     "metadata": {},
     "output_type": "execute_result"
    }
   ],
   "source": [
    "get_shortest_path(1, 0)"
   ]
  },
  {
   "cell_type": "code",
   "execution_count": null,
   "id": "d8bdc315",
   "metadata": {},
   "outputs": [],
   "source": []
  },
  {
   "cell_type": "code",
   "execution_count": 36,
   "id": "08f2726c",
   "metadata": {},
   "outputs": [],
   "source": [
    "import matplotlib.pyplot as plt"
   ]
  },
  {
   "cell_type": "code",
   "execution_count": 39,
   "id": "f6020a04",
   "metadata": {},
   "outputs": [
    {
     "data": {
      "image/png": "[encoded data removed]",
      "text/plain": [
       "<Figure size 432x288 with 1 Axes>"
      ]
     },
     "metadata": {},
     "output_type": "display_data"
    }
   ],
   "source": [
    "#plt.scatter([i for i in range(num_episodes)], episode_rewards)\n",
    "plt.plot([i for i in range(1000)], episode_rewards[:1000])\n",
    "plt.xlabel('episodes')\n",
    "plt.ylabel('rewards')\n",
    "plt.title('episode-rewards plot')\n",
    "plt.show()"
   ]
  },
  {
   "cell_type": "code",
   "execution_count": null,
   "id": "64df8365",
   "metadata": {},
   "outputs": [],
   "source": []
  },
  {
   "cell_type": "code",
   "execution_count": null,
   "id": "f74cfab1",
   "metadata": {},
   "outputs": [],
   "source": []
  },
  {
   "cell_type": "code",
   "execution_count": null,
   "id": "9215125a",
   "metadata": {},
   "outputs": [],
   "source": []
  },
  {
   "cell_type": "code",
   "execution_count": null,
   "id": "73db4cb9",
   "metadata": {},
   "outputs": [],
   "source": []
  },
  {
   "cell_type": "code",
   "execution_count": null,
   "id": "cea61618",
   "metadata": {},
   "outputs": [],
   "source": []
  }
 ],
 "metadata": {
  "kernelspec": {
   "display_name": "Python 3 (ipykernel)",
   "language": "python",
   "name": "python3"
  },
  "language_info": {
   "codemirror_mode": {
    "name": "ipython",
    "version": 3
   },
   "file_extension": ".py",
   "mimetype": "text/x-python",
   "name": "python",
   "nbconvert_exporter": "python",
   "pygments_lexer": "ipython3",
   "version": "3.8.10"
  }
 },
 "nbformat": 4,
 "nbformat_minor": 5
}
