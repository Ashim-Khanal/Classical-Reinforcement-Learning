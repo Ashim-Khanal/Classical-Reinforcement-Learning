{
 "cells": [
  {
   "cell_type": "code",
   "execution_count": 1,
   "id": "af85ebb4",
   "metadata": {},
   "outputs": [],
   "source": [
    "import numpy as np\n",
    "import random\n",
    "import time\n",
    "import matplotlib\n",
    "import pandas as pd\n",
    "import sys\n",
    "import plotting\n",
    "import numpy as np"
   ]
  },
  {
   "cell_type": "code",
   "execution_count": 2,
   "id": "86d9c0c2",
   "metadata": {},
   "outputs": [],
   "source": [
    "class environment:\n",
    "    def __init__(self):\n",
    "        self.env_rows = 4\n",
    "        self.env_columns = 4\n",
    "        self.actions = ['up', 'right', 'down', 'left']\n",
    "        self.V = np.zeros((self.env_rows, self.env_columns))\n",
    "        self.P = np.array([[[0,0.5,0.5,0],  ## transition probability\n",
    "                          [0,0.33,0.33,0.33],\n",
    "                          [0,0,0,0],\n",
    "                          [0,0,0.5,0.5]],\n",
    "                          [[0.333,0.333,0.333,0],\n",
    "                           [0,0,0,0],\n",
    "                           [0.25,0.25,0.25,0.25],\n",
    "                           [0,0,0,0]],\n",
    "                           [[0.333,0.333,0.333,0],\n",
    "                           [0.25,0.25,0.25,0.25],\n",
    "                           [0.25,0.25,0.25,0.25],\n",
    "                           [0.333,0,0.333,0.333]],\n",
    "                           [[0,0,0,0],\n",
    "                           [0.333,0.333,0,0.333],\n",
    "                           [0,0,0,0],\n",
    "                           [0.333,0,0.333,0.333]]]\n",
    "                           )  ## probability transition\n",
    "        self.policy = np.zeros((self.env_rows, self.env_columns))\n",
    "        for i in range(self.env_rows):\n",
    "            for j in range(self.env_columns):\n",
    "                self.policy[i][j] = np.argmax(self.P[i,j])\n",
    "        self.rewards = np.full((self.env_rows, self.env_columns), -1)\n",
    "        self.rewards[0,2] = 100\n",
    "        self.fire = {}\n",
    "        self.fire[0] = []\n",
    "        self.fire[1] = [1,3]\n",
    "        self.fire[2] = []\n",
    "        self.fire[3] = [0,2]\n",
    "        for row_index in range(self.env_rows):\n",
    "            for column_index in self.fire[row_index]:\n",
    "                self.rewards[row_index, column_index] = -100"
   ]
  },
  {
   "cell_type": "code",
   "execution_count": 4,
   "id": "715cb081",
   "metadata": {},
   "outputs": [],
   "source": [
    "env = environment()"
   ]
  },
  {
   "cell_type": "code",
   "execution_count": 5,
   "id": "3ff6f480",
   "metadata": {},
   "outputs": [],
   "source": [
    "V = env.V\n",
    "policy = env.policy\n",
    "probability = env.P\n",
    "rewards = env.rewards"
   ]
  },
  {
   "cell_type": "code",
   "execution_count": 3,
   "id": "2092f3b8",
   "metadata": {},
   "outputs": [],
   "source": [
    "def parameters():\n",
    "    \n",
    "    epsilon = 0.9 #the percentage of time when we should take the best action (instead of a random action)\n",
    "    discount_factor = 0.2 #discount factor for future rewards (gamma)\n",
    "    learning_rate = 0.8 #the rate at which the agent should learn\n",
    "    num_episodes = 1000\n",
    "    episode_lengths = np.zeros(num_episodes)\n",
    "    episode_rewards = np.zeros(num_episodes)\n",
    "    return epsilon, discount_factor, learning_rate, num_episodes, episode_lengths, episode_rewards"
   ]
  },
  {
   "cell_type": "code",
   "execution_count": 6,
   "id": "9a9b8200",
   "metadata": {},
   "outputs": [],
   "source": [
    "epsilon, discount_factor, learning_rate, num_episodes, episode_lengths, episode_rewards = parameters()"
   ]
  },
  {
   "cell_type": "code",
   "execution_count": 7,
   "id": "6b253127",
   "metadata": {},
   "outputs": [],
   "source": [
    "def get_next_location(current_row_index, current_column_index, action_index):\n",
    "    new_row_index = current_row_index\n",
    "    new_column_index = current_column_index\n",
    "    if env.actions[action_index] == 'up' and current_row_index  > 0:\n",
    "        new_row_index -= 1\n",
    "    elif env.actions[action_index] == 'right' and current_column_index < env.env_columns - 1:\n",
    "        new_column_index += 1\n",
    "    elif env.actions[action_index] == 'down' and current_row_index < env.env_rows - 1:\n",
    "        new_row_index += 1\n",
    "    elif env.actions[action_index] == 'left' and current_column_index > 0:\n",
    "        new_column_index -= 1\n",
    "    return new_row_index, new_column_index"
   ]
  },
  {
   "cell_type": "code",
   "execution_count": 12,
   "id": "9310f006",
   "metadata": {},
   "outputs": [],
   "source": [
    "def value_iteration(theta=1e-9):\n",
    "\n",
    "    while True: \n",
    "        delta = 0\n",
    "        for i in range(len(V)):\n",
    "            for j in range(len(V[i])):\n",
    "                v = V[i][j]\n",
    "                action_value_array = np.array([])\n",
    "                old_action = policy[i,j]\n",
    "                for action, action_probability in enumerate(probability[i][j]):\n",
    "                #print(action, action_probability)\n",
    "                    new_row_index, new_column_index = get_next_location(i, j, action)\n",
    "                    action_value = rewards[new_row_index][new_column_index] + discount_factor * V[new_row_index][new_column_index]\n",
    "                    action_value_array = np.append(action_value_array, action_value)\n",
    "                optimal_action = np.argmax(action_value_array)\n",
    "                policy[i][j] = optimal_action\n",
    "                V[i,j] = action_value_array[optimal_action]\n",
    "\n",
    "                delta = max(delta, np.abs(V[i,j] - v))\n",
    "                # Terminate if value change is insignificant\n",
    "        if delta < theta:\n",
    "            return V, policy"
   ]
  },
  {
   "cell_type": "code",
   "execution_count": 13,
   "id": "f30d3e0d",
   "metadata": {},
   "outputs": [],
   "source": [
    "V, optimal_policy = value_iteration(theta=1e-9)"
   ]
  },
  {
   "cell_type": "code",
   "execution_count": 14,
   "id": "8f1e21ab",
   "metadata": {},
   "outputs": [
    {
     "data": {
      "text/plain": [
       "array([[1., 1., 0., 3.],\n",
       "       [0., 0., 0., 0.],\n",
       "       [0., 1., 0., 3.],\n",
       "       [0., 0., 0., 0.]])"
      ]
     },
     "execution_count": 14,
     "metadata": {},
     "output_type": "execute_result"
    }
   ],
   "source": [
    "optimal_policy"
   ]
  },
  {
   "cell_type": "code",
   "execution_count": null,
   "id": "68521cf5",
   "metadata": {},
   "outputs": [],
   "source": []
  }
 ],
 "metadata": {
  "kernelspec": {
   "display_name": "Python 3 (ipykernel)",
   "language": "python",
   "name": "python3"
  },
  "language_info": {
   "codemirror_mode": {
    "name": "ipython",
    "version": 3
   },
   "file_extension": ".py",
   "mimetype": "text/x-python",
   "name": "python",
   "nbconvert_exporter": "python",
   "pygments_lexer": "ipython3",
   "version": "3.8.10"
  }
 },
 "nbformat": 4,
 "nbformat_minor": 5
}
